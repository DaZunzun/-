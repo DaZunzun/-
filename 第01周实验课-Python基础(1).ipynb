{
 "cells": [
  {
   "cell_type": "markdown",
   "id": "7d672112-19cc-4b58-a13f-a217996f0757",
   "metadata": {},
   "source": [
    "# 1 Python的基础\n",
    "　　本节讲解在学习本书内容过程中所需的Python语法。Python是一种易于使用、与人工智能和数学兼容的编程语言。  \n",
    "　　如果已经学习过Python，可以跳过本节。"
   ]
  },
  {
   "cell_type": "markdown",
   "id": "88d74233-3c6c-4499-8e29-610a66d458a1",
   "metadata": {
    "tags": []
   },
   "source": [
    "## 1.1 什么是Python\n",
    "　　Python是一种简单、可读性高，且相对易于使用的编程语言。由于它开源，所以任何人都可以免费下载，因此在世界范围内得到了广泛的使用。与其他语言相比，Python在数值计算和数据分析方面更具有优势，而且即使不是专业的程序员也可以轻松地用它编写代码，因此现在它已成为人工智能开发的标准。  \n",
    "　　因为Python语法简单，所以即使对于第一次面对编程的人，它仍然是一种理想的选择。另一方面，Python是面向对象的语言，可以编写高度抽象的代码。不过，本书基本上不使用面向对象的编程，只会使用Python的基本语法来学习数学。所以如果想学习更高级的概念，如面向对象，还请参考其他书籍。  "
   ]
  },
  {
   "cell_type": "markdown",
   "id": "8b409bd8-ba24-4be6-ae30-e37c92c67fa4",
   "metadata": {
    "tags": []
   },
   "source": [
    "## 1.2 变量\n",
    "　　在Python中，可以将各种值（如整数、小数或字符串）赋予（代入）变量。要为变量赋值，请如语法2.1所示，使用“=”赋值。"
   ]
  },
  {
   "cell_type": "markdown",
   "id": "91badcb6-1280-49d0-ac35-d1978decf03f",
   "metadata": {},
   "source": [
    "**<font color=blue>语法</font>**  \n",
    "\n",
    "```\n",
    "变量=值\n",
    "```"
   ]
  },
  {
   "cell_type": "markdown",
   "id": "a05ed4fc-9507-4986-b1a1-f4403766e775",
   "metadata": {
    "tags": []
   },
   "source": [
    "**<font color=red>ATTENTION</font> 关于“=”**  \n",
    "　　在Python中，“=”的作用和在数学中“=”的作用相似但不同。在Python中=的意思是将等号右边的值赋值给等号左边的变量。在数学中=表示等号左边和右边相等。"
   ]
  },
  {
   "cell_type": "markdown",
   "id": "4b65cdf8-43ae-41e2-8d20-68598bddc154",
   "metadata": {},
   "source": [
    "**<font color=red>ATTENTION</font> 关于“值”**  \n",
    "　　在编程语言中，“值”这个词并不仅仅指数值，文字或字符串等非数值的量在作为变量代入时也可以被称为“值”。"
   ]
  },
  {
   "cell_type": "markdown",
   "id": "747ae397-4de3-428a-b9a0-6ae95c71efcc",
   "metadata": {},
   "source": [
    "　　例如，在给变量abcd赋一个整数值1234时（即将一个整数值1234代入变量abcd），可以写为如下形式。"
   ]
  },
  {
   "cell_type": "code",
   "execution_count": 1,
   "id": "73ff716d-bc54-4d8a-91ff-b9e04cfcea6b",
   "metadata": {},
   "outputs": [],
   "source": [
    "abcd = 1234"
   ]
  },
  {
   "cell_type": "markdown",
   "id": "0720ec28-f8d2-4a4b-b4b7-a7e0b2a39e90",
   "metadata": {},
   "source": [
    "　　以下是几个使用“=”将数值代入变量的示例。变量名称也可以使用数字或下划线。如示例1中，分别将整数、小数和字符串代入变量。字符串是将文字用\"\"括起来的内容。在Python中进行文字的书写时，多作为字符串代入变量。"
   ]
  },
  {
   "cell_type": "markdown",
   "id": "60d9a55c-7d76-4427-8fd8-f9e092bb0b41",
   "metadata": {
    "tags": []
   },
   "source": [
    "### 示例 1 各种各样的变量"
   ]
  },
  {
   "cell_type": "code",
   "execution_count": 2,
   "id": "42c15ce9-9841-46f1-b0cb-1067bdcf2cf8",
   "metadata": {},
   "outputs": [],
   "source": [
    "a = 123  # 给变量a赋值代入一个整数123\n",
    "b_123 = 123.456  # 给变量b_123赋值代入一个小数123.456\n",
    "hello_world = \"Hello World!\"  # 给变量hello_world赋值代入字符串\"Hello World!\""
   ]
  },
  {
   "cell_type": "markdown",
   "id": "8fbb1cc0-fc97-4e2a-af8b-d2de52c929cd",
   "metadata": {
    "jp-MarkdownHeadingCollapsed": true,
    "tags": []
   },
   "source": [
    "　　\\# 后面写的文字作为注释使用，因为它们是不能被程序识别的，所以想在代码中添加注释的时候请自由使用#符号。"
   ]
  },
  {
   "cell_type": "markdown",
   "id": "877a60a9-e6dd-4104-8a72-0fe58efe6cff",
   "metadata": {},
   "source": [
    "**<font color=red>ATTENTION</font> 变量名**  \n",
    "　　在变量名称中，必须将大小写字母作为不同字符处理。例如，abcd和ABCD会被Python识别为不同的变量。"
   ]
  },
  {
   "cell_type": "markdown",
   "id": "77866eb4-4c7f-4e6b-9ce4-2edb9710ce24",
   "metadata": {},
   "source": [
    "## 1.3 值的显示和变量的保留\n",
    "　　可以使用`print()`显示变量中存储的值。示例2中的代码将123存储在变量a中，并使用`print()`显示该值。"
   ]
  },
  {
   "cell_type": "markdown",
   "id": "52c48d18-db85-443e-9551-49d029e4759d",
   "metadata": {},
   "source": [
    "### 示例2 显示值的示例"
   ]
  },
  {
   "cell_type": "code",
   "execution_count": 3,
   "id": "878cf4c0-bab3-44b6-88c2-f3d3bbab4717",
   "metadata": {},
   "outputs": [
    {
     "name": "stdout",
     "output_type": "stream",
     "text": [
      "123\n"
     ]
    }
   ],
   "source": [
    "a = 123\n",
    "print(a)"
   ]
  },
  {
   "cell_type": "markdown",
   "id": "d80efdb4-5146-49fb-b22d-7ce97f6db161",
   "metadata": {},
   "source": [
    "　　存储在变量a中的值将显示在单元格下方。  \n",
    "　　另外如示例3所示，还可以使用“,”（逗号）来分隔并统一表示多个值。"
   ]
  },
  {
   "cell_type": "markdown",
   "id": "2416e628-73cf-4a6d-b6b0-62d4398a7def",
   "metadata": {},
   "source": [
    "### 示例3 集中显示值的示例"
   ]
  },
  {
   "cell_type": "code",
   "execution_count": 4,
   "id": "273449cf-b262-46d3-95d0-3bacc3de93d2",
   "metadata": {},
   "outputs": [
    {
     "name": "stdout",
     "output_type": "stream",
     "text": [
      "123 123.456 Hello World!\n"
     ]
    }
   ],
   "source": [
    "print(123, 123.456, \"Hello World!\")"
   ]
  },
  {
   "cell_type": "markdown",
   "id": "2a032d18-6f20-48d0-ae9c-194c61c2015e",
   "metadata": {},
   "source": [
    "　　请注意，在执行单元格时，该单元格中的变量将被其他的单元格共享。在示例4的单元格中，变量b被赋值，当运行此单元格时，同样也可以在其他单元格中使用变量b。"
   ]
  },
  {
   "cell_type": "markdown",
   "id": "7209618a-0923-4a41-b35e-f19b44fa304f",
   "metadata": {
    "tags": []
   },
   "source": [
    "### 示例4 变量的代入"
   ]
  },
  {
   "cell_type": "code",
   "execution_count": 5,
   "id": "647cb4e3-4999-4a8e-a599-dd7ff492e94d",
   "metadata": {},
   "outputs": [],
   "source": [
    "b = 456"
   ]
  },
  {
   "cell_type": "markdown",
   "id": "b1499abc-828f-4705-99d7-1d899043e4a8",
   "metadata": {
    "tags": []
   },
   "source": [
    "　　在另一个单元格中，显示存储在变量b中的值（示例5）。"
   ]
  },
  {
   "cell_type": "markdown",
   "id": "4d020c52-f58f-44a7-a1c4-41cf60388cca",
   "metadata": {
    "tags": []
   },
   "source": [
    "### 示例5 显示变量中存储的值"
   ]
  },
  {
   "cell_type": "code",
   "execution_count": 6,
   "id": "f8abbbd9-1b82-4091-b0f1-361ba3f94f46",
   "metadata": {},
   "outputs": [
    {
     "name": "stdout",
     "output_type": "stream",
     "text": [
      "456\n"
     ]
    }
   ],
   "source": [
    "print(b)"
   ]
  },
  {
   "cell_type": "markdown",
   "id": "21058723-60fd-4db9-a962-f9accaff9bf9",
   "metadata": {},
   "source": [
    "　　值已经显示了出来。如上所述，已执行的单元格变量在笔记本中可以被共享。"
   ]
  },
  {
   "cell_type": "markdown",
   "id": "1dba1693-34a2-4527-8220-c04ff6aa9a1b",
   "metadata": {},
   "source": [
    "## 1.4 运算符"
   ]
  },
  {
   "cell_type": "markdown",
   "id": "cba03c30-ebbb-49e1-b290-2195c8fdbc21",
   "metadata": {},
   "source": [
    "　　在Python中，可以使用运算符执行各种操作。  \n",
    "　　示例6的单元格使用了+（加法）、-（减法）、*（乘法）和**（幂）运算符。Python将运算符的结果存储在变量中，并通过print()语句显示每个值。"
   ]
  },
  {
   "cell_type": "markdown",
   "id": "2411d1ff-65cb-4c38-822d-57d396e22947",
   "metadata": {},
   "source": [
    "### 示例6 各种Python运算符"
   ]
  },
  {
   "cell_type": "code",
   "execution_count": 7,
   "id": "ccc3f0cc-a861-4867-8f97-d72ccc2aefef",
   "metadata": {},
   "outputs": [
    {
     "name": "stdout",
     "output_type": "stream",
     "text": [
      "加法： 7\n",
      "减法： -1\n",
      "乘法： 12\n",
      "幂： 81\n"
     ]
    }
   ],
   "source": [
    "a = 3\n",
    "b = 4\n",
    "\n",
    "c = a + b  # 加法\n",
    "print(\"加法：\", c)\n",
    "\n",
    "d = a - b  # 减法\n",
    "print(\"减法：\", d)\n",
    "\n",
    "e = a * b  # 乘法\n",
    "print(\"乘法：\", e)\n",
    "\n",
    "f = a ** b  # 幂（a的b次方）\n",
    "print(\"幂：\", f)"
   ]
  },
  {
   "cell_type": "markdown",
   "id": "0628d9c8-4d4e-46ea-8e7f-71a4b44bda96",
   "metadata": {},
   "source": [
    "　　除法方面，有小数除法和整数除法（示例7）。“/”运算符将结果转换为小数，“//”运算符将结果转换为整数。还可以使用%运算符计算除以整数后的余数。"
   ]
  },
  {
   "cell_type": "markdown",
   "id": "4bb86769-368c-451f-9b51-788c77073af2",
   "metadata": {},
   "source": [
    "#### 示例7 除法运算符"
   ]
  },
  {
   "cell_type": "code",
   "execution_count": 8,
   "id": "80926a9b-43f0-4ec5-a867-b7c5233b89e7",
   "metadata": {},
   "outputs": [
    {
     "name": "stdout",
     "output_type": "stream",
     "text": [
      "除法（小数）： 0.75\n",
      "除法（整数）： 0\n",
      "余数： 3\n"
     ]
    }
   ],
   "source": [
    "g = a / b  # 结果为小数\n",
    "print(\"除法（小数）：\", g)\n",
    "\n",
    "h = a // b  # 结果为小数\n",
    "print(\"除法（整数）：\", h)\n",
    "\n",
    "i = a % b  # 结果为小数\n",
    "print(\"余数：\", i)"
   ]
  },
  {
   "cell_type": "markdown",
   "id": "d6c09505-6822-4e0c-bf9a-09de899d75dc",
   "metadata": {},
   "source": [
    "　　也可以使用“+”“=”等运算符对变量中存储的值进行计算（示例8）"
   ]
  },
  {
   "cell_type": "markdown",
   "id": "cca0cb7f-d499-45ed-a356-0db3514c1635",
   "metadata": {},
   "source": [
    "### 示例8 对变量本身执行计算"
   ]
  },
  {
   "cell_type": "code",
   "execution_count": 9,
   "id": "65156814-7b8b-4fa8-abba-a225b59a0a49",
   "metadata": {},
   "outputs": [
    {
     "name": "stdout",
     "output_type": "stream",
     "text": [
      "加上3： 8\n",
      "减去3： 2\n"
     ]
    }
   ],
   "source": [
    "j = 5\n",
    "j += 3  # 加上3。与j = j + 3相同\n",
    "print(\"加上3：\", j)\n",
    "\n",
    "k = 5\n",
    "k -= 3  # 减去3。与k = k - 3相同\n",
    "print(\"减去3：\", k)"
   ]
  },
  {
   "cell_type": "markdown",
   "id": "cfc58d91-e901-47b2-bf26-646b05923c2e",
   "metadata": {},
   "source": [
    "Python还有许多其他运算符，如果感兴趣，请自行学习。"
   ]
  },
  {
   "cell_type": "markdown",
   "id": "cf6d797e-a896-4841-80a9-067a127c3077",
   "metadata": {},
   "source": [
    "## 1.5 大数字和小数字的表示方式\n",
    "　　较大的数字和较小的数字（位数较多时）可以用e来表示。如果看到e左边有小数，右边有整数的这种表示方法，则代表用e左边的小数乘以e右边的10的整数次幂（如$1.2e5=1.2\\times10^5$)。如果e的右边是负数，则表示用e左边的数值除以e右边的10的负数的绝对值次幂（如$1.2e-4=1.2\\times10^{-4}=1.2\\div10^4$)（示例9）。"
   ]
  },
  {
   "cell_type": "markdown",
   "id": "63ef7e40-afa3-420c-aab9-6743b18298e2",
   "metadata": {},
   "source": [
    "### 示例9 大数字、小数字的表示方法"
   ]
  },
  {
   "cell_type": "code",
   "execution_count": 10,
   "id": "908c5991-35b2-48d5-9a9f-c7293a6e4c46",
   "metadata": {},
   "outputs": [
    {
     "name": "stdout",
     "output_type": "stream",
     "text": [
      "120000.0\n",
      "0.00012\n"
     ]
    }
   ],
   "source": [
    "a = 1.2e5  # 120000\n",
    "print(a)\n",
    "\n",
    "b = 1.2e-4  # 0.00012\n",
    "print(b)"
   ]
  },
  {
   "cell_type": "markdown",
   "id": "62f10550-890d-47f5-8282-0769a59b9414",
   "metadata": {},
   "source": [
    "## 1.6列表"
   ]
  },
  {
   "cell_type": "markdown",
   "id": "a88d4f7e-83c9-4f36-939f-324590283a49",
   "metadata": {},
   "source": [
    "　　列表允许将多个值合并为一个变量。列表用`[]`包围整个值（元素），并用“,”对它们进行分隔（示例10）。"
   ]
  },
  {
   "cell_type": "markdown",
   "id": "44cd2dd5-0cb3-428e-b79e-3ce8ae056665",
   "metadata": {},
   "source": [
    "### 示例10 合并列表中的多个值"
   ]
  },
  {
   "cell_type": "code",
   "execution_count": 11,
   "id": "2f59453f-23b2-481e-bc69-b5da6125bd65",
   "metadata": {},
   "outputs": [
    {
     "name": "stdout",
     "output_type": "stream",
     "text": [
      "[1, 2, 3, 4]\n"
     ]
    }
   ],
   "source": [
    "a = [1, 2, 3, 4]\n",
    "print(a)"
   ]
  },
  {
   "cell_type": "markdown",
   "id": "b65bcdfa-adfc-4bbd-bedf-f8fd7dad877f",
   "metadata": {},
   "source": [
    "　　可以通过在列表名称后面加上“索引”来检索列表中的元素。索引从元素的开头起以0、1、2、3、···的顺序依次排序（示例11）。"
   ]
  },
  {
   "cell_type": "markdown",
   "id": "87fa2420-4096-43db-b57e-f9176ef97e60",
   "metadata": {},
   "source": [
    "### 示例11 按索引检索列表中的元素"
   ]
  },
  {
   "cell_type": "code",
   "execution_count": 12,
   "id": "e38f6e03-8751-44ce-8a50-3933cfbf67ac",
   "metadata": {},
   "outputs": [
    {
     "name": "stdout",
     "output_type": "stream",
     "text": [
      "6\n"
     ]
    }
   ],
   "source": [
    "b = [4, 5, 6, 7]\n",
    "print(b[2])  # 以0开头并按照0、1、2、3、···的顺序添加索引后检索索引为2的元素"
   ]
  },
  {
   "cell_type": "markdown",
   "id": "dc5d8c69-605f-41b9-8047-ea2e40315ad3",
   "metadata": {},
   "source": [
    "　　可以使用append()将元素添加到列表中。被添加的元素位于列表的末尾（示例12）。"
   ]
  },
  {
   "cell_type": "markdown",
   "id": "4ad93045-9266-4d1d-9796-131a83d28a3f",
   "metadata": {},
   "source": [
    "### 示例12 为列表添加元素"
   ]
  },
  {
   "cell_type": "code",
   "execution_count": 13,
   "id": "b374f5cc-2198-47ee-acb3-054a8ac6bb7e",
   "metadata": {},
   "outputs": [
    {
     "name": "stdout",
     "output_type": "stream",
     "text": [
      "[1, 2, 3, 4, 5, 6]\n"
     ]
    }
   ],
   "source": [
    "c = [1, 2, 3, 4, 5]\n",
    "c.append(6)  # 将6添加进列表\n",
    "print(c)"
   ]
  },
  {
   "cell_type": "markdown",
   "id": "3998f7b3-cc70-4fb1-82bc-4468094d18ba",
   "metadata": {},
   "source": [
    "　　还可以将列表放入另一个列表中来创建双重列表（示例13）。"
   ]
  },
  {
   "cell_type": "markdown",
   "id": "5a06b4c4-804c-4803-9902-f8ca6f3447f2",
   "metadata": {},
   "source": [
    "### 示例13 在列表中加入列表"
   ]
  },
  {
   "cell_type": "code",
   "execution_count": 14,
   "id": "52d763b9-79c2-45d5-8996-dcdbe92b1c63",
   "metadata": {},
   "outputs": [
    {
     "name": "stdout",
     "output_type": "stream",
     "text": [
      "[[1, 2, 3], [4, 5, 6]]\n"
     ]
    }
   ],
   "source": [
    "d = [[1, 2, 3], [4, 5, 6]]\n",
    "print(d)"
   ]
  },
  {
   "cell_type": "markdown",
   "id": "d89b37d5-1384-448e-a39f-59aca7a1a2a2",
   "metadata": {},
   "source": [
    "　　还可以用*运算符将列表与整数相乘，以创建一个所有元素都以复数的条目进行排列的新列表（示例14）。"
   ]
  },
  {
   "cell_type": "markdown",
   "id": "baa98f1e-3ec0-4e06-8453-cd6351f52feb",
   "metadata": {},
   "source": [
    "### 示例14 建立一个新的列表，其中所有匀速均以复数条目排列"
   ]
  },
  {
   "cell_type": "code",
   "execution_count": 15,
   "id": "eee5e0bb-6fdf-474d-a228-a0a48b14c2c2",
   "metadata": {},
   "outputs": [
    {
     "name": "stdout",
     "output_type": "stream",
     "text": [
      "[1, 2, 1, 2, 1, 2]\n"
     ]
    }
   ],
   "source": [
    "e = [1, 2]\n",
    "print(e * 3)  # 新列表中将原列表的元素进行了3次重复排列"
   ]
  },
  {
   "cell_type": "markdown",
   "id": "f38ff03b-75ed-4f81-afcd-845f5e0e51f8",
   "metadata": {},
   "source": [
    "　　利用列表，可以有效地处理人工智能所需地数据。实际上，如后面2.2节所述地一样，在使用之前，列表中的数据通常会先被转换为NumPy数组格式"
   ]
  },
  {
   "cell_type": "markdown",
   "id": "eeb29032-f6a0-414c-bae8-820a0e7cfd95",
   "metadata": {
    "tags": []
   },
   "source": [
    "## 1.7 元组\n",
    "　　与列表一样，元组用于处理多个值，但不能添加、删除或替换元素。元组用()包围整个值（元素），并用“,”来分割每个元素。如果不需要更改元素，那么使用元组比使用列表更方便（示例15）。"
   ]
  },
  {
   "cell_type": "markdown",
   "id": "a2045bbc-e840-4183-8b19-76e2bd3904ac",
   "metadata": {},
   "source": [
    "### 示例15 访问元组元素"
   ]
  },
  {
   "cell_type": "code",
   "execution_count": 16,
   "id": "9d0b8bdf-786a-4c08-a30c-2a5a192dda48",
   "metadata": {},
   "outputs": [
    {
     "name": "stdout",
     "output_type": "stream",
     "text": [
      "3\n"
     ]
    }
   ],
   "source": [
    "a = (1, 2, 3, 4, 5)  # 创建元组\n",
    "b = a[2]  # 获取索引为2的元素\n",
    "print(b)"
   ]
  },
  {
   "cell_type": "markdown",
   "id": "386caaf3-4c35-43c2-91ca-e5f315d8bd39",
   "metadata": {},
   "source": [
    "　　只有一个元素的元组，在元素之后需要添加“,”进行标记（示例16）。"
   ]
  },
  {
   "cell_type": "markdown",
   "id": "ab1dee36-c0f2-4d97-909f-269c5f9fc303",
   "metadata": {},
   "source": [
    "### 示例16 只有一个元素的元组"
   ]
  },
  {
   "cell_type": "code",
   "execution_count": 17,
   "id": "9481ff13-806f-4e07-b2d9-0b13ce2b54e4",
   "metadata": {},
   "outputs": [
    {
     "name": "stdout",
     "output_type": "stream",
     "text": [
      "(3,)\n"
     ]
    }
   ],
   "source": [
    "c = (3,)\n",
    "print(c)"
   ]
  },
  {
   "cell_type": "markdown",
   "id": "d3047650-7d41-438e-a487-27ad05abe02e",
   "metadata": {},
   "source": [
    "　　另外，列表和元组的元素可以通过示例17中的方式一起被分配给变量。"
   ]
  },
  {
   "cell_type": "markdown",
   "id": "39947858-0bfd-41da-9c1f-bf903a77e538",
   "metadata": {},
   "source": [
    "### 示例17 将列表或元组的元素统一代入变量"
   ]
  },
  {
   "cell_type": "code",
   "execution_count": 18,
   "id": "f9553dea-0c8e-4080-8c5b-f935a5a0c680",
   "metadata": {},
   "outputs": [
    {
     "name": "stdout",
     "output_type": "stream",
     "text": [
      "1 2 3\n",
      "4 5 6\n"
     ]
    }
   ],
   "source": [
    "d = [1, 2, 3]\n",
    "d_1, d_2, d_3 = d\n",
    "print(d_1, d_2, d_3)\n",
    "\n",
    "e = (4, 5, 6)\n",
    "e_1, e_2, e_3 = e\n",
    "print(e_1, e_2, e_3)"
   ]
  },
  {
   "cell_type": "markdown",
   "id": "41efe5d0-c1a7-4173-bc84-3b4358066662",
   "metadata": {},
   "source": [
    "## 1.8 if语句"
   ]
  },
  {
   "cell_type": "markdown",
   "id": "176f1e66-17bd-49dd-9148-e09a4ff39fe9",
   "metadata": {},
   "source": [
    "　　if 语句用于条件分支。if语句的格式可以参照语法2.2."
   ]
  },
  {
   "cell_type": "markdown",
   "id": "68d109b2-c31d-441b-8109-5d4f39ce6236",
   "metadata": {},
   "source": [
    "**<font color=blue>语法2.2</font>** \n",
    "\n",
    "```\n",
    "if 条件表达式:  \n",
    "　　语句块１  \n",
    "else:  \n",
    "　　语句块2  \n",
    "```"
   ]
  },
  {
   "cell_type": "markdown",
   "id": "5dcdf9e1-a3ac-488a-972d-bbe74cfd47d4",
   "metadata": {},
   "source": [
    "　　在这种情况下，如果满足条件表达式，则执行语句块1，否则执行语句块2。在示例18中的代码中，如果满足if后面的条件（a大于3），则处理后面的语句块。语句块由行首处的缩进表示。在Python中，缩进通常由四个半角空格表示。如果不满足if之后的条件（a不大于3），则处理else之后的语句块，参照示例18。"
   ]
  },
  {
   "cell_type": "markdown",
   "id": "ae365e7d-425b-4ca8-a86e-1f172828cac7",
   "metadata": {},
   "source": [
    "### 示例18 if 语句的条件分支"
   ]
  },
  {
   "cell_type": "code",
   "execution_count": 19,
   "id": "def7063b-628e-40ab-ad41-a23ab97dab30",
   "metadata": {},
   "outputs": [
    {
     "name": "stdout",
     "output_type": "stream",
     "text": [
      "7\n"
     ]
    }
   ],
   "source": [
    "a = 5\n",
    "\n",
    "if a > 3:  # 如果a比3大\n",
    "    print(a + 2)  # 在开头插入缩进\n",
    "else:  # 不满足a > 3\n",
    "    print(a-2)"
   ]
  },
  {
   "cell_type": "markdown",
   "id": "5d5f311c-97ef-4304-8b68-455d793bd4cd",
   "metadata": {},
   "source": [
    "　　如果a大于3，则显示a加上2的值；如果a不大于3，则显示a减去2的值。由于a的值为5且大于3，因此在执行上面的代码时，将显示5加2的值也就是7。在示例18中，>运算符用于比较。除了上述的>（大于）运算符之外，还有<（小于）、>=（大于等于）、<=（小于等于）、==（等于）、!=（不等于）几种运算符。示例19中使用“==”作为比较运算符来比较值是否相等。"
   ]
  },
  {
   "cell_type": "markdown",
   "id": "1a9f1b02-1ef3-4b87-9a56-fbedfcf02888",
   "metadata": {},
   "source": [
    "#### 示例19 使用==运算符进行比较"
   ]
  },
  {
   "cell_type": "code",
   "execution_count": 20,
   "id": "f323a60d-83d8-4a7a-986c-ae199cee5ba2",
   "metadata": {},
   "outputs": [
    {
     "name": "stdout",
     "output_type": "stream",
     "text": [
      "9\n"
     ]
    }
   ],
   "source": [
    "b = 7\n",
    "if b ==7:  # 如果b与7相等\n",
    "    print(b + 2)\n",
    "else:  # 如果不满足b == 7\n",
    "    print(b - 2)"
   ]
  },
  {
   "cell_type": "markdown",
   "id": "f148285c-8950-49e8-9f37-6d6ee42bd0dd",
   "metadata": {},
   "source": [
    "　　如上所述，通过使用if语句，可以根据条件进行不同的处理。"
   ]
  },
  {
   "cell_type": "markdown",
   "id": "34e95a6a-ee5f-461e-b125-224bd0781262",
   "metadata": {},
   "source": [
    "## 1.9 for 语句\n",
    "　　for语句允许重复执行操作。将for语句与列表一起使用时，其基本形式如语法2.3。"
   ]
  },
  {
   "cell_type": "markdown",
   "id": "51a983b4-3341-40f2-b1be-139d07e1df3a",
   "metadata": {},
   "source": [
    "**<font color=blue>语法2.3</font>**  \n",
    "\n",
    "```\n",
    "for 变量 in 列表:  \n",
    "    语句块\n",
    "```"
   ]
  },
  {
   "cell_type": "markdown",
   "id": "b5ea7b90-36a4-4552-ad5d-179358687b1a",
   "metadata": {},
   "source": [
    "　　在这种情况下，只进行与列表中元素相同次数的处理，但可以使用列表中的元素。  \n",
    "　　示例20是一个使用for语句和列表的循环示例。重复过程的书写方式与if语句的书写方式相同，在行首加入缩进。在此段代码中，列表中的元素数为3，因此语句块中的处理次数为3次。在这种情况下，列表中的每个元素都按顺序出现在变量a中。"
   ]
  },
  {
   "cell_type": "markdown",
   "id": "6fab51ec-f19b-4bff-894d-fc8df8a1c187",
   "metadata": {},
   "source": [
    "### 示例20 使用了for 语句和列表的循环"
   ]
  },
  {
   "cell_type": "code",
   "execution_count": 21,
   "id": "4a276133-27ca-4766-bfc8-33418a9cebd2",
   "metadata": {},
   "outputs": [
    {
     "name": "stdout",
     "output_type": "stream",
     "text": [
      "5\n",
      "8\n",
      "11\n"
     ]
    }
   ],
   "source": [
    "for a in [4, 7, 10]:  # 将列表中的每个元素都代入变量a中\n",
    "    print(a + 1)  # 添加缩进以执行循环中的操作"
   ]
  },
  {
   "cell_type": "markdown",
   "id": "192d1ec5-2924-4a5d-826f-256698da8c02",
   "metadata": {},
   "source": [
    "　　每次执行代码块中的操作时，都可以看到列表中的元素从前面开始按顺序出现在变量a中。  \n",
    "　　接下来将解释使用range()表示的循环。将for语句与range()一起使用时，其格式请参考语法2.4。"
   ]
  },
  {
   "cell_type": "markdown",
   "id": "1e75f92c-18ec-40e2-b185-c3aeb5abb7f1",
   "metadata": {},
   "source": [
    "**<font color=blue>语法2.4</font>**\n",
    "\n",
    "```\n",
    "for 变量 in range(整数):  \n",
    "　　语句块\n",
    "```"
   ]
  },
  {
   "cell_type": "markdown",
   "id": "a69b4bee-e001-41eb-8624-b2a45f2db033",
   "metadata": {},
   "source": [
    "　　在这种情况下，将整数的数量进行重复处理，但变量必须是从整数0到“整数数值-1”之间的整数。示例21是一个使用for语句和range()的循环示例，变量a包含0~4之间的整数。"
   ]
  },
  {
   "cell_type": "markdown",
   "id": "089ced64-e97b-4e25-8fc4-d14af1dc506b",
   "metadata": {},
   "source": [
    "### 示例21 使用range()的循环"
   ]
  },
  {
   "cell_type": "code",
   "execution_count": 22,
   "id": "3155b02e-d4ad-4538-b755-a2be7361d6f5",
   "metadata": {},
   "outputs": [
    {
     "name": "stdout",
     "output_type": "stream",
     "text": [
      "0\n",
      "1\n",
      "2\n",
      "3\n",
      "4\n"
     ]
    }
   ],
   "source": [
    "for a in range(5):  # a包含0到4\n",
    "    print(a)"
   ]
  },
  {
   "cell_type": "markdown",
   "id": "aa3c2d8a-c75b-4299-bd2a-8090bfaa47b7",
   "metadata": {},
   "source": [
    "　　可以看到a包含0~4之间的整数。  \n",
    "　　通过使用如上的for语句，可以通过编写较短的代码进行非常多的人工智能所需的处理。"
   ]
  },
  {
   "cell_type": "markdown",
   "id": "06057a35-a06f-449d-832f-cc87ab3ce1ad",
   "metadata": {},
   "source": [
    "## 1.10 函数\n",
    "　　下面使用函数将多行处理合并到一个组中。函数的基本格式如语法2.5所示。"
   ]
  },
  {
   "cell_type": "markdown",
   "id": "cbc0ff0b-6932-4ffc-abee-4520880c3266",
   "metadata": {},
   "source": [
    "**<font color=blue>语法2.5</font>**  \n",
    "\n",
    "```\n",
    "def 函数名(参数):  \n",
    "　　语句块  \n",
    "　　return 返回值\n",
    "```"
   ]
  },
  {
   "cell_type": "markdown",
   "id": "8add96dd-9757-43ee-8f60-7c406f84259e",
   "metadata": {},
   "source": [
    "　　在这种情况下，参数是函数的输入值，返回值是函数的输出值，函数中也可以不存在参数和返回值。  \n",
    "　　示例22是一个函数的示例。定义一个名为my_func_1的函数，然后调用该函数。其结果由函数内部处理得出。  \n",
    "　　此函数没有参数或返回值。  "
   ]
  },
  {
   "cell_type": "markdown",
   "id": "9bc4a640-6ab7-4113-ac79-6871406111c8",
   "metadata": {},
   "source": [
    "### 示例22 定义和调用函数"
   ]
  },
  {
   "cell_type": "code",
   "execution_count": 23,
   "id": "1ef81d98-5979-4306-8ad2-ad96553660fc",
   "metadata": {},
   "outputs": [
    {
     "name": "stdout",
     "output_type": "stream",
     "text": [
      "5\n"
     ]
    }
   ],
   "source": [
    "def my_func_1():  # my_func_1是函数名\n",
    "    a = 2\n",
    "    b = 3\n",
    "    print(a + b)\n",
    "\n",
    "my_func_1()  # 调用函数"
   ]
  },
  {
   "cell_type": "markdown",
   "id": "53766520-bbb1-46d5-95dd-3ebac886dfb8",
   "metadata": {},
   "source": [
    "　　函数内部执行了处理，并显示结果为5，即2和3相加后的和。同时函数可以从函数外部接收被称为参数的值。  \n",
    "　　参数设置在函数名后面的()中，可以用“,”分隔。在示例23中，函数拥有p和q两个参数，在调用函数时每个参数的值会被传递给函数。"
   ]
  },
  {
   "cell_type": "markdown",
   "id": "2d0bb5dc-4a1e-462c-a7be-3848de293d49",
   "metadata": {},
   "source": [
    "### 示例23 带有参数的函数"
   ]
  },
  {
   "cell_type": "code",
   "execution_count": 24,
   "id": "739f14f7-165b-4cee-a97b-97ebc3518c58",
   "metadata": {},
   "outputs": [
    {
     "name": "stdout",
     "output_type": "stream",
     "text": [
      "7\n"
     ]
    }
   ],
   "source": [
    "def my_func_2(p, q):  # p、q为参数\n",
    "    print(p + q)\n",
    "    \n",
    "my_func_2(3, 4)  # 调用函数时传递值"
   ]
  },
  {
   "cell_type": "markdown",
   "id": "8fa35607-c331-4beb-a21b-caf787fa6eaa",
   "metadata": {},
   "source": [
    "　　可以看到作为参数接收到的两个值被加在了一起。函数就是这样从外部接收值的。函数还可以向外部传递一个被称为返回值的值。  \n",
    "　　在函数的末尾写上return，而返回值直接卸载它的后面。在示例24中，为函数设置了返回值，代码调用函数以接收返回值并显示了该值。"
   ]
  },
  {
   "cell_type": "markdown",
   "id": "4c0f0b1f-760a-4267-a302-bd39a41307a0",
   "metadata": {},
   "source": [
    "### 示例24 带参数和返回值的函数"
   ]
  },
  {
   "cell_type": "code",
   "execution_count": 25,
   "id": "b6034807-e893-4c9c-ac4c-8ff5a82e4a20",
   "metadata": {},
   "outputs": [
    {
     "name": "stdout",
     "output_type": "stream",
     "text": [
      "7\n"
     ]
    }
   ],
   "source": [
    "def my_func_3(p, q):  # p、q为参数\n",
    "    r = p + q\n",
    "    return r  # r为返回值\n",
    "\n",
    "k = my_func_3(3,4)  # 将接收到的值作为返回值放入k中\n",
    "print(k)"
   ]
  },
  {
   "cell_type": "markdown",
   "id": "0716bce9-adc3-484f-a3eb-ff1deab9c69f",
   "metadata": {},
   "source": [
    "　　如果要返回多个值，应该使用元组。此时在return后面，要写上包含要返回的值得元组，参照示例25。"
   ]
  },
  {
   "cell_type": "markdown",
   "id": "a6cf61f6-7044-4e0e-abd0-6afdc1d5a91f",
   "metadata": {},
   "source": [
    "### 示例25 将返回值设置为元组"
   ]
  },
  {
   "cell_type": "code",
   "execution_count": 26,
   "id": "3d7724d3-5548-4248-a4ef-26ba2dc1b19a",
   "metadata": {},
   "outputs": [
    {
     "name": "stdout",
     "output_type": "stream",
     "text": [
      "7 3\n"
     ]
    }
   ],
   "source": [
    "def my_func_3(p, q):  # p、q为参数\n",
    "    r = p + q\n",
    "    s = p - q\n",
    "    return (r, s)  # 将返回值设置为元组\n",
    "\n",
    "k, l = my_func_3(5, 2)  # 将元组的各要素代入k，l\n",
    "print(k, l)"
   ]
  },
  {
   "cell_type": "markdown",
   "id": "a86156f5-3321-4195-9e14-19319e44c035",
   "metadata": {},
   "source": [
    "　　一旦定义了函数，就可以多次调用该函数。将需要多次执行的操作归类为函数会非常方便。"
   ]
  },
  {
   "cell_type": "markdown",
   "id": "d36724b9-0380-4913-b759-f02dc3157d1b",
   "metadata": {},
   "source": [
    "## 1.11 作用域\n",
    "　　变量中拥有作用域的概念。作用域即变量可以访问的范围。函数中的变量是局部变量，函数外部的变量是全局变量。局部变量的作用域在同一个函数内，而全局变量的作用域在函数内和函数外。  \n",
    "　　示例26中的单元格包含函数外部的全局变量和函数内部的局部变量。可以在函数内访问这两个变量，但如果尝试在函数外访问局部变量，则会出现错误。"
   ]
  },
  {
   "cell_type": "markdown",
   "id": "79f5f0dc-f738-4730-bfd7-cd0313b4c7dc",
   "metadata": {},
   "source": [
    "### 示例26 局部变量和全局变量"
   ]
  },
  {
   "cell_type": "code",
   "execution_count": 27,
   "id": "ec76c48a-d171-48aa-9984-d80d0232948a",
   "metadata": {},
   "outputs": [
    {
     "name": "stdout",
     "output_type": "stream",
     "text": [
      "123 456\n"
     ]
    }
   ],
   "source": [
    "a = 123  # 全局变量\n",
    "\n",
    "def show_number():\n",
    "    b = 456  # 局部变量\n",
    "    print(a, b)  # 两者均可访问\n",
    "\n",
    "show_number()"
   ]
  },
  {
   "cell_type": "markdown",
   "id": "fa593df8-0d21-4507-8884-5768a50ce04b",
   "metadata": {},
   "source": [
    "　　如上所述，变量的作用域取决于书写变量的位置。  \n",
    "　　Python为全局变量提供了一些更复杂的规则。如果尝试为函数中的全局变量赋值，则Python会将其视为另一个局部变量。  \n",
    "　　在示例17中，变量a的名称虽然与函数中的全局变量a的名称相同，但此时在函数中，变量a是另一个局部变量。"
   ]
  },
  {
   "cell_type": "markdown",
   "id": "bc8b20ba-29b0-4b95-ad13-799dffb1c754",
   "metadata": {},
   "source": [
    "### 示例27 与全局变量同名的局部变量"
   ]
  },
  {
   "cell_type": "code",
   "execution_count": 28,
   "id": "13fc890c-7b27-4f4d-a820-b94cffbc45e1",
   "metadata": {},
   "outputs": [
    {
     "name": "stdout",
     "output_type": "stream",
     "text": [
      "Local： 456\n",
      "Grobal： 123\n"
     ]
    }
   ],
   "source": [
    "a = 123  # 全局变量\n",
    "\n",
    "def set_local():\n",
    "    a = 456  # a与上述变量不同，是另一个局部变量\n",
    "    print(\"Local：\", a)\n",
    "    \n",
    "set_local()\n",
    "print(\"Grobal：\", a)  # 全局变量的值不变"
   ]
  },
  {
   "cell_type": "markdown",
   "id": "c8cf9a80-c711-4c05-bedf-f4543bb35c27",
   "metadata": {},
   "source": [
    "　　在示例28中，全局变量的值在函数中保持不变，同名的变量被视为不同的局部变量。同样的规则也适用于用作函数参数的变量。在示例28中，参数的变量名与全局变量的名称相同，但在该函数中，a是另一个局部变量。"
   ]
  },
  {
   "cell_type": "markdown",
   "id": "114a4eb4-5e2a-4f35-9ff5-ff425c56f2b5",
   "metadata": {},
   "source": [
    "### 示例28 作为参数的变量的作用域"
   ]
  },
  {
   "cell_type": "code",
   "execution_count": 29,
   "id": "87e73009-33c7-4f67-b76f-db20acc993e8",
   "metadata": {},
   "outputs": [
    {
     "name": "stdout",
     "output_type": "stream",
     "text": [
      "Local： 456\n",
      "Grobal： 123\n"
     ]
    }
   ],
   "source": [
    "a = 123  # 全局变量\n",
    "\n",
    "def show_arg(a):  # a与上述变量不同，是另一个局部变量\n",
    "    print(\"Local：\", a)\n",
    "    \n",
    "show_arg(456)\n",
    "print(\"Grobal：\", a)  # 全局变量的值不变"
   ]
  },
  {
   "cell_type": "markdown",
   "id": "6df0c469-5069-459b-8950-95c6b28fc7af",
   "metadata": {},
   "source": [
    "　　那么，如果想更改函数中全局变量的值，该怎么办呢？  \n",
    "　　要在函数中更改全局变量的值，必须使用global或nonlocal在函数中置定变量不是局部的。示例29中使用global对变量进行了声明，以便访问函数中的全局变量。"
   ]
  },
  {
   "cell_type": "markdown",
   "id": "51184652-e7fd-4085-b690-b50643ffb392",
   "metadata": {},
   "source": [
    "### 示例29 在函数中更改全局变量的值"
   ]
  },
  {
   "cell_type": "code",
   "execution_count": 30,
   "id": "8eacdb82-2feb-42cc-b751-b796620946ed",
   "metadata": {},
   "outputs": [
    {
     "name": "stdout",
     "output_type": "stream",
     "text": [
      "Global： 456\n",
      "Grobal： 456\n"
     ]
    }
   ],
   "source": [
    "a = 123  # 全局变量\n",
    "\n",
    "def set_grobal():\n",
    "    global a  # 也可以使用nonlocal\n",
    "    a = 456  # 更改全局变量的值\n",
    "    print(\"Global：\", a)\n",
    "    \n",
    "set_grobal()\n",
    "print(\"Grobal：\", a)"
   ]
  },
  {
   "cell_type": "markdown",
   "id": "d9ed0018-f4fb-4d56-abcf-b3d53747f978",
   "metadata": {},
   "source": [
    "　　可以看到，在函数中全局变量的值已被更改。  \n",
    "　　如上所述，在处理函数中的变量时，必须始终留意作用域。"
   ]
  },
  {
   "cell_type": "markdown",
   "id": "1f565356-bed7-4df1-beca-fd25c382f989",
   "metadata": {},
   "source": [
    "## 1.12 练习"
   ]
  },
  {
   "cell_type": "markdown",
   "id": "83fc0454-ea0a-40e9-8c19-58edb6bd6b5b",
   "metadata": {},
   "source": [
    "**问题**: 在Jupyter Notebook的单元格中至少编写一个列表、一个元组、一个if语句、一个for语句和一个函数示例。"
   ]
  },
  {
   "cell_type": "markdown",
   "id": "4e962f01-1f21-4631-b19d-b0ca56d4eaad",
   "metadata": {},
   "source": [
    "### 示例30 解答示例"
   ]
  },
  {
   "cell_type": "code",
   "execution_count": 31,
   "id": "d2c3267e-9bc2-488e-8fb0-0ff668562ace",
   "metadata": {},
   "outputs": [
    {
     "name": "stdout",
     "output_type": "stream",
     "text": [
      "--- 结果：列表 ---\n",
      "3\n",
      "\n",
      "--- 结果：元组 ---\n",
      "4\n",
      "\n",
      "--- 结果：if语句 ---\n",
      "7\n",
      "\n",
      "--- 结果：for语句 ---\n",
      "2\n",
      "3\n",
      "4\n",
      "5\n",
      "6\n",
      "\n",
      "--- 结果：函数 ---\n",
      "7\n"
     ]
    }
   ],
   "source": [
    "# ---列表示例---\n",
    "print(\"--- 结果：列表 ---\")\n",
    "my_list = [1, 2, 3, 4, 5]\n",
    "print(my_list[2])\n",
    "\n",
    "print()  # 空行\n",
    "\n",
    "# ---元组示例---\n",
    "print(\"--- 结果：元组 ---\")\n",
    "my_tuple = (1, 2, 3, 4, 5)\n",
    "print(my_tuple[3])\n",
    "\n",
    "print()  # 空行\n",
    "\n",
    "# ---if语句示例---\n",
    "print(\"--- 结果：if语句 ---\")\n",
    "a = 5\n",
    "b = 2\n",
    "if a == 5:\n",
    "    print(a + b)\n",
    "    \n",
    "print()\n",
    "\n",
    "# ---for语句示例---\n",
    "print(\"--- 结果：for语句 ---\")\n",
    "for m in my_list:\n",
    "    print(m + 1)\n",
    "    \n",
    "print()\n",
    "\n",
    "# ---函数示例---\n",
    "print(\"--- 结果：函数 ---\")\n",
    "def add(p, q):\n",
    "    return p + q\n",
    "print(add(a, b))"
   ]
  },
  {
   "cell_type": "markdown",
   "id": "78e10165",
   "metadata": {},
   "source": [
    "# 2 Numpy的基础\n",
    "NumPy可以使用简单的语句来实现高效的数据操作。接下来的一节将学习一些基本的NumPy知识。"
   ]
  },
  {
   "cell_type": "markdown",
   "id": "28fbb4b3",
   "metadata": {},
   "source": [
    "## 2.1 什么是Numpy\n",
    "NumPy是Python的扩展模块。它拥有大型数学函数库，运算功能丰富。在实现人工智能时，它可以频繁地处理向量和矩阵，是非常有用的工具。  \n",
    "NumPy最初即被包含在Anaconda中，因此只需将其导入即可使用。本节有关NumPy的解说仅仅是最基础的知识，有关其它更丰富的信息，还请大家参阅其他相关书籍。"
   ]
  },
  {
   "cell_type": "markdown",
   "id": "6155dd68",
   "metadata": {},
   "source": [
    "## 2.2 Numpy的导入\n",
    "模块是一种可用的外部Python文件。在Python中，可以通过编写import语句来部署模块。由于NumPy也是一个模块，因此要使用NumPy，请像示例31一样，在代码的开头添加如下代码。"
   ]
  },
  {
   "cell_type": "markdown",
   "id": "c9e5704d",
   "metadata": {},
   "source": [
    "### 示例31 NumPy的导入"
   ]
  },
  {
   "cell_type": "code",
   "execution_count": 32,
   "id": "98936fb6",
   "metadata": {
    "ExecuteTime": {
     "end_time": "2022-08-31T01:27:00.153397Z",
     "start_time": "2022-08-31T01:27:00.141322Z"
    }
   },
   "outputs": [],
   "source": [
    "import numpy"
   ]
  },
  {
   "cell_type": "markdown",
   "id": "0ce93da5",
   "metadata": {},
   "source": [
    "也可以使用as语句为模块指定不同的名称，如示例32"
   ]
  },
  {
   "cell_type": "markdown",
   "id": "eeac69dc",
   "metadata": {},
   "source": [
    "### 示例32 为模块指定其他名称"
   ]
  },
  {
   "cell_type": "code",
   "execution_count": 33,
   "id": "e384012a",
   "metadata": {
    "ExecuteTime": {
     "end_time": "2022-08-31T01:28:20.955432Z",
     "start_time": "2022-08-31T01:28:20.938481Z"
    }
   },
   "outputs": [],
   "source": [
    "import numpy as np"
   ]
  },
  {
   "cell_type": "markdown",
   "id": "78dd954b",
   "metadata": {},
   "source": [
    "添加如示例32的语句之后，就可以使用np来调用numpy模块"
   ]
  },
  {
   "cell_type": "markdown",
   "id": "1fe3629d",
   "metadata": {},
   "source": [
    "## 生成NumPy数组\n",
    "人工智能的计算中经常会使用矩阵和向量，可以使用NumPy的数组来表示这些内容。首先需要理解的是“NumPy的数组是数值排列”这个概念，接下来出现“数组”这个名词时，均指代的NumPy数组。  \n",
    "可以在Python列表中通过使用Numpy的`array()`函数轻松创建NumPy数组，如示例33所示。"
   ]
  },
  {
   "cell_type": "markdown",
   "id": "38787b51",
   "metadata": {},
   "source": [
    "### 示例33 从Python列表中创建NumPy数组"
   ]
  },
  {
   "cell_type": "code",
   "execution_count": 34,
   "id": "ad562d9e",
   "metadata": {
    "ExecuteTime": {
     "end_time": "2022-08-31T01:38:28.211657Z",
     "start_time": "2022-08-31T01:38:28.205560Z"
    }
   },
   "outputs": [
    {
     "name": "stdout",
     "output_type": "stream",
     "text": [
      "[0 1 2 3 4 5]\n"
     ]
    }
   ],
   "source": [
    "import numpy as np\n",
    "\n",
    "a = np.array([0, 1, 2, 3, 4, 5])   # 从Python列表中创建NumPy数组\n",
    "print(a)"
   ]
  },
  {
   "cell_type": "markdown",
   "id": "1aa85bb6",
   "metadata": {},
   "source": [
    "也可以创建一个数组间相互重叠的二维数组。二维数组由元素为列表的列表（双重列表）组成，如示例34所示。"
   ]
  },
  {
   "cell_type": "markdown",
   "id": "7d963a07",
   "metadata": {},
   "source": [
    "### 示例34 从双重列表中创建二维的NumPy数组"
   ]
  },
  {
   "cell_type": "code",
   "execution_count": 35,
   "id": "054d2f83",
   "metadata": {
    "ExecuteTime": {
     "end_time": "2022-08-31T01:40:27.527080Z",
     "start_time": "2022-08-31T01:40:27.513011Z"
    }
   },
   "outputs": [
    {
     "name": "stdout",
     "output_type": "stream",
     "text": [
      "[[0 1 2]\n",
      " [3 4 5]]\n"
     ]
    }
   ],
   "source": [
    "import numpy as np\n",
    "\n",
    "b = np.array([[0, 1, 2], [3, 4, 5]])   # 从双重列表中创建二维的NumPy数组\n",
    "print(b)"
   ]
  },
  {
   "cell_type": "markdown",
   "id": "1abe1e4a",
   "metadata": {},
   "source": [
    "同样，也可以创建三维数组。三维数组是二维数组的进一步重叠，由三重列表组成，如示例35所示。"
   ]
  },
  {
   "cell_type": "markdown",
   "id": "913e4a58",
   "metadata": {},
   "source": [
    "### 示例35 从三重列表中创建三维的NumPy数组"
   ]
  },
  {
   "cell_type": "code",
   "execution_count": 36,
   "id": "19c432c9",
   "metadata": {
    "ExecuteTime": {
     "end_time": "2022-08-31T01:42:07.483728Z",
     "start_time": "2022-08-31T01:42:07.473682Z"
    }
   },
   "outputs": [
    {
     "name": "stdout",
     "output_type": "stream",
     "text": [
      "[[[0 1 2]\n",
      "  [3 4 5]]\n",
      "\n",
      " [[5 4 3]\n",
      "  [2 1 0]]]\n"
     ]
    }
   ],
   "source": [
    "import numpy as np\n",
    "\n",
    "c = np.array([[[0, 1, 2], [3, 4, 5]], [[5, 4, 3], [2, 1, 0]]])   # 从三重列表中创建三维的NumPy数组\n",
    "print(c)"
   ]
  },
  {
   "cell_type": "markdown",
   "id": "8ccccb96",
   "metadata": {},
   "source": [
    "当然，同样还可以创建更高维数组。  \n",
    "还可以使用其他函数生成NumPy数组。`zeros()`函数可以生成所有元素均为0的数组，`ones()`函数可以生成所有元素为1的数组，`arange()`函数可以生成从零开始按顺序排列的整数数组，如示例36所示。"
   ]
  },
  {
   "cell_type": "markdown",
   "id": "e7a0911f",
   "metadata": {},
   "source": [
    "### 示例36 生成数组的各种函数"
   ]
  },
  {
   "cell_type": "code",
   "execution_count": 37,
   "id": "d2f97162",
   "metadata": {
    "ExecuteTime": {
     "end_time": "2022-08-31T01:46:17.804487Z",
     "start_time": "2022-08-31T01:46:17.780551Z"
    }
   },
   "outputs": [
    {
     "name": "stdout",
     "output_type": "stream",
     "text": [
      "[0. 0. 0. 0. 0. 0. 0. 0.]\n",
      "[1. 1. 1. 1. 1. 1. 1. 1.]\n",
      "[0 1 2 3 4 5 6 7]\n"
     ]
    }
   ],
   "source": [
    "import numpy as np\n",
    "\n",
    "d = np.zeros(8)   # 包含8个0的数组\n",
    "print(d)\n",
    "\n",
    "e = np.ones(8)   # 包含8个1的数组\n",
    "print(e)\n",
    "\n",
    "f = np.arange(8)   # 包含从0到7的数组\n",
    "print(f)"
   ]
  },
  {
   "cell_type": "markdown",
   "id": "eb3941ef",
   "metadata": {},
   "source": [
    "## 数组的形状\n",
    "可以使用`shape()`函数检查数组的形状。此函数返回一个表示形状的元组（示例37）。"
   ]
  },
  {
   "cell_type": "markdown",
   "id": "0a5031dc",
   "metadata": {},
   "source": [
    "### 示例37 用shape()函数获取数组的形状"
   ]
  },
  {
   "cell_type": "code",
   "execution_count": 38,
   "id": "c1d46a09",
   "metadata": {
    "ExecuteTime": {
     "end_time": "2022-08-31T02:22:26.817352Z",
     "start_time": "2022-08-31T02:22:26.805353Z"
    }
   },
   "outputs": [
    {
     "name": "stdout",
     "output_type": "stream",
     "text": [
      "(2, 3)\n"
     ]
    }
   ],
   "source": [
    "import numpy as np\n",
    "\n",
    "a = np.array([[0, 1, 2], [3, 4, 5]])   # 2*3的二维数组\n",
    "print(np.shape(a))"
   ]
  },
  {
   "cell_type": "markdown",
   "id": "a8bdda02",
   "metadata": {},
   "source": [
    "结果是一个显示了行数，列数的元组。  \n",
    "如果只是想要获得最外面的元素数，即上例中的函数，那么使用`len()`函数则更为简单，如示例38所示。"
   ]
  },
  {
   "cell_type": "markdown",
   "id": "e9065dfe",
   "metadata": {},
   "source": [
    "### 示例38 利用len()函数获得最外侧的元素数"
   ]
  },
  {
   "cell_type": "code",
   "execution_count": 39,
   "id": "0accc0e5",
   "metadata": {
    "ExecuteTime": {
     "end_time": "2022-08-31T02:24:02.723433Z",
     "start_time": "2022-08-31T02:24:02.714823Z"
    }
   },
   "outputs": [
    {
     "name": "stdout",
     "output_type": "stream",
     "text": [
      "2\n"
     ]
    }
   ],
   "source": [
    "print(len(a))   # 获得a的行数"
   ]
  },
  {
   "cell_type": "markdown",
   "id": "15cdd33e",
   "metadata": {},
   "source": [
    "## 2.5 数组运算"
   ]
  },
  {
   "cell_type": "markdown",
   "id": "f7e0afb8",
   "metadata": {},
   "source": [
    "示例39中在数组和数字间执行了运算。在这种情况下，运算将在数组的每个元素和数值间执行。"
   ]
  },
  {
   "cell_type": "markdown",
   "id": "7df11ab0",
   "metadata": {},
   "source": [
    "### 示例39 数组和数值的运算"
   ]
  },
  {
   "cell_type": "code",
   "execution_count": 40,
   "id": "263c6b2d",
   "metadata": {
    "ExecuteTime": {
     "end_time": "2022-08-31T02:26:52.350488Z",
     "start_time": "2022-08-31T02:26:52.333894Z"
    }
   },
   "outputs": [
    {
     "name": "stdout",
     "output_type": "stream",
     "text": [
      "[[0 1 2]\n",
      " [3 4 5]]\n",
      "\n",
      "[[3 4 5]\n",
      " [6 7 8]]\n",
      "\n",
      "[[ 0  3  6]\n",
      " [ 9 12 15]]\n"
     ]
    }
   ],
   "source": [
    "import numpy as np\n",
    "\n",
    "a = np.array([[0, 1, 2], [3, 4, 5]])   # 二维数组\n",
    "print(a)\n",
    "print()\n",
    "print(a + 3)   # 各元素加3\n",
    "print()\n",
    "print(a * 3)   # 各元素乘3"
   ]
  },
  {
   "cell_type": "markdown",
   "id": "a3a2dc09",
   "metadata": {},
   "source": [
    "示例40是数组之间进行运算的示例。在这种情况下，将在位置相同的元素之间执行运算"
   ]
  },
  {
   "cell_type": "markdown",
   "id": "17782662",
   "metadata": {},
   "source": [
    "### 示例40 数组间的运算"
   ]
  },
  {
   "cell_type": "code",
   "execution_count": 41,
   "id": "cd9720b9",
   "metadata": {
    "ExecuteTime": {
     "end_time": "2022-08-31T02:29:19.011817Z",
     "start_time": "2022-08-31T02:29:18.993868Z"
    }
   },
   "outputs": [
    {
     "name": "stdout",
     "output_type": "stream",
     "text": [
      "[[0 1 2]\n",
      " [3 4 5]]\n",
      "\n",
      "[[2 0 1]\n",
      " [5 3 4]]\n",
      "\n",
      "[[2 1 3]\n",
      " [8 7 9]]\n",
      "\n",
      "[[ 0  0  2]\n",
      " [15 12 20]]\n"
     ]
    }
   ],
   "source": [
    "b = np.array([[0, 1, 2], [3, 4, 5]])   # 二维数组\n",
    "\n",
    "c = np.array([[2, 0, 1], [5, 3, 4]])   # 二维数组\n",
    "\n",
    "print(b)\n",
    "print()\n",
    "print(c)\n",
    "print()\n",
    "print(b + c)\n",
    "print()\n",
    "print(b * c)"
   ]
  },
  {
   "cell_type": "markdown",
   "id": "1e46dce6",
   "metadata": {},
   "source": [
    "## 2.6 访问元素"
   ]
  },
  {
   "cell_type": "markdown",
   "id": "f41a8e28",
   "metadata": {},
   "source": [
    "与列表相同，对数组中每个元素的访问也需要使用索引。一维数组的情况下，可以通过在`[]`中指定索引来检索元素，方法如示例41所示。"
   ]
  },
  {
   "cell_type": "markdown",
   "id": "ecff3004",
   "metadata": {},
   "source": [
    "### 示例41 通过指定索引，访问数组中的元素"
   ]
  },
  {
   "cell_type": "code",
   "execution_count": 42,
   "id": "e2d05461",
   "metadata": {
    "ExecuteTime": {
     "end_time": "2022-08-31T02:31:43.919095Z",
     "start_time": "2022-08-31T02:31:43.901314Z"
    }
   },
   "outputs": [
    {
     "name": "stdout",
     "output_type": "stream",
     "text": [
      "4\n"
     ]
    }
   ],
   "source": [
    "import numpy as np\n",
    "\n",
    "a = np.array([1, 2, 3, 4, 5])\n",
    "print(a[3])   # 指定索引"
   ]
  },
  {
   "cell_type": "markdown",
   "id": "ac5f0f97",
   "metadata": {},
   "source": [
    "上例展示的是，依次从0, 1, 2...的索引中检索索引为3的元素。"
   ]
  },
  {
   "cell_type": "markdown",
   "id": "c1b1e5ba",
   "metadata": {},
   "source": [
    "此外，也可以通过指定索引来交换元素，方法如示例42所示。"
   ]
  },
  {
   "cell_type": "markdown",
   "id": "ead0c628",
   "metadata": {},
   "source": [
    "### 示例42 通过索引，交换数组中的元素"
   ]
  },
  {
   "cell_type": "code",
   "execution_count": 43,
   "id": "6928d228",
   "metadata": {
    "ExecuteTime": {
     "end_time": "2022-08-31T02:34:27.129145Z",
     "start_time": "2022-08-31T02:34:27.115423Z"
    }
   },
   "outputs": [
    {
     "name": "stdout",
     "output_type": "stream",
     "text": [
      "[1 2 9 4 5]\n"
     ]
    }
   ],
   "source": [
    "a[2] = 9\n",
    "print(a)"
   ]
  },
  {
   "cell_type": "markdown",
   "id": "8348f4cd",
   "metadata": {},
   "source": [
    "示例42中将索引为2的元素替换成了数字9"
   ]
  },
  {
   "cell_type": "markdown",
   "id": "f5cc658d",
   "metadata": {},
   "source": [
    "在二维数组中，检索元素时需要指定垂直和水平2各索引。可以使用“,”（逗号）分隔索引，也可以使用包含索引的两个`[]`来表示（示例43）"
   ]
  },
  {
   "cell_type": "markdown",
   "id": "b150cf54",
   "metadata": {},
   "source": [
    "### 示例43 访问二维数组中的元素"
   ]
  },
  {
   "cell_type": "code",
   "execution_count": 44,
   "id": "6de54d36",
   "metadata": {
    "ExecuteTime": {
     "end_time": "2022-08-31T02:37:01.187473Z",
     "start_time": "2022-08-31T02:37:01.183392Z"
    }
   },
   "outputs": [
    {
     "name": "stdout",
     "output_type": "stream",
     "text": [
      "5\n"
     ]
    }
   ],
   "source": [
    "b = np.array([[0, 1, 2], [3, 4, 5]])\n",
    "\n",
    "print(b[1, 2])   # 与b[1][2]相同"
   ]
  },
  {
   "cell_type": "markdown",
   "id": "4af896e6",
   "metadata": {},
   "source": [
    "这样可以检索到垂直索引为1，水平索引为2的元素  "
   ]
  },
  {
   "cell_type": "markdown",
   "id": "a0290653",
   "metadata": {},
   "source": [
    "在交换元素时，同样要指定两个索引（示例44）"
   ]
  },
  {
   "cell_type": "markdown",
   "id": "a48dd883",
   "metadata": {},
   "source": [
    "### 示例44 交换二维数组中的元素"
   ]
  },
  {
   "cell_type": "code",
   "execution_count": 45,
   "id": "c03e9199",
   "metadata": {
    "ExecuteTime": {
     "end_time": "2022-08-31T02:38:34.698603Z",
     "start_time": "2022-08-31T02:38:34.682594Z"
    }
   },
   "outputs": [
    {
     "name": "stdout",
     "output_type": "stream",
     "text": [
      "[[0 1 2]\n",
      " [3 4 9]]\n"
     ]
    }
   ],
   "source": [
    "b[1, 2] = 9\n",
    "\n",
    "print(b)"
   ]
  },
  {
   "cell_type": "markdown",
   "id": "cd46d2a0",
   "metadata": {},
   "source": [
    "在两个索引中指定的元素已经交换。针对三维或更多维数组，同样也可以通过指定多个索引来访问元素。  "
   ]
  },
  {
   "cell_type": "markdown",
   "id": "eb91bffe",
   "metadata": {},
   "source": [
    "还可以通过在索引中指定“:”（冒号）来访问行、列等。示例45代码中的代码战史了如何提取二维数组中的行，以及列的交换。"
   ]
  },
  {
   "cell_type": "markdown",
   "id": "2c146d31",
   "metadata": {},
   "source": [
    "### 示例45 访问行或列"
   ]
  },
  {
   "cell_type": "code",
   "execution_count": 46,
   "id": "c80536bd",
   "metadata": {
    "ExecuteTime": {
     "end_time": "2022-08-31T02:42:09.177140Z",
     "start_time": "2022-08-31T02:42:09.162177Z"
    }
   },
   "outputs": [
    {
     "name": "stdout",
     "output_type": "stream",
     "text": [
      "[3 4 5]\n",
      "\n",
      "[[0 6 2]\n",
      " [3 7 5]]\n"
     ]
    }
   ],
   "source": [
    "c = np.array([[0, 1, 2], [3, 4, 5]])\n",
    "\n",
    "print(c[1, :])   # 检索索引为1的行\n",
    "print()\n",
    "c[:, 1] = np.array([6, 7])   # 替换索引为1的列\n",
    "print(c)"
   ]
  },
  {
   "cell_type": "markdown",
   "id": "a7bc4ccc",
   "metadata": {},
   "source": [
    "## 2.7 函数与数组\n",
    "可以使用NumPy数组作为函数参数或返回值。示例46中的`my_func`函数接收数组作为参数，并作为返回值返回数组。"
   ]
  },
  {
   "cell_type": "markdown",
   "id": "09ba38fd",
   "metadata": {},
   "source": [
    "### 示例46 作为函数参数以及返回值的数组"
   ]
  },
  {
   "cell_type": "code",
   "execution_count": 47,
   "id": "fece9146",
   "metadata": {
    "ExecuteTime": {
     "end_time": "2022-08-31T02:45:23.823945Z",
     "start_time": "2022-08-31T02:45:23.806990Z"
    }
   },
   "outputs": [
    {
     "name": "stdout",
     "output_type": "stream",
     "text": [
      "[[ 1  3  5]\n",
      " [ 7  9 11]]\n"
     ]
    }
   ],
   "source": [
    "import numpy as np\n",
    "\n",
    "def my_func(x):\n",
    "    y = x * 2 + 1\n",
    "    return y\n",
    "\n",
    "a = np.array([[0, 1, 2], [3, 4, 5]])   # 二维数组\n",
    "b = my_func(a)   # 将数组作为参数传递，并作为返回值接收\n",
    "\n",
    "print(b)"
   ]
  },
  {
   "cell_type": "markdown",
   "id": "181cfdef",
   "metadata": {},
   "source": [
    "如示例46所示，人工智能的代码通常使用数组在函数内部和外部交换数据。"
   ]
  },
  {
   "cell_type": "markdown",
   "id": "33d7b1ee",
   "metadata": {},
   "source": [
    "## 2.8 NumPy的各种功能\n",
    "NumPy拥有许多功能，示例47中列出了其中的一部分。`sum()`函数用来求和，`average()`函数用来求取平均值，`max()`函数用来获取最大值，`min()`函数用来获取最小值。"
   ]
  },
  {
   "cell_type": "markdown",
   "id": "82fc7403",
   "metadata": {},
   "source": [
    "### 示例47 NumPy提供的各种函数"
   ]
  },
  {
   "cell_type": "code",
   "execution_count": 48,
   "id": "92d8cf72",
   "metadata": {
    "ExecuteTime": {
     "end_time": "2022-08-31T02:49:55.707657Z",
     "start_time": "2022-08-31T02:49:55.689155Z"
    }
   },
   "outputs": [
    {
     "name": "stdout",
     "output_type": "stream",
     "text": [
      "统计： 15\n",
      "平均： 2.5\n",
      "最大值： 5\n",
      "最小值： 0\n"
     ]
    }
   ],
   "source": [
    "import numpy as np\n",
    "\n",
    "a = np.array([[0, 1, 2], [3, 4, 5]])   # 二维数组\n",
    "print(\"统计：\", np.sum(a))\n",
    "print(\"平均：\", np.average(a))\n",
    "print(\"最大值：\", np.max(a))\n",
    "print(\"最小值：\", np.min(a))"
   ]
  },
  {
   "cell_type": "markdown",
   "id": "f3873844",
   "metadata": {},
   "source": [
    "## 2.9 练习\n",
    "问题：在Jupyter Notebook的单元格编写两个NumPy的二维数组，并计算它们的和、差和乘积（示例48）"
   ]
  },
  {
   "cell_type": "markdown",
   "id": "0b7e4f27",
   "metadata": {},
   "source": [
    "### 示例48 解答示例"
   ]
  },
  {
   "cell_type": "code",
   "execution_count": 49,
   "id": "c19730e8",
   "metadata": {
    "ExecuteTime": {
     "end_time": "2022-08-31T02:53:16.427104Z",
     "start_time": "2022-08-31T02:53:16.411087Z"
    }
   },
   "outputs": [
    {
     "name": "stdout",
     "output_type": "stream",
     "text": [
      "[[5 5 5]\n",
      " [5 5 5]]\n",
      "\n",
      "[[-5 -3 -1]\n",
      " [ 1  3  5]]\n",
      "\n",
      "[[0 4 6]\n",
      " [6 4 0]]\n"
     ]
    }
   ],
   "source": [
    "import numpy as np\n",
    "\n",
    "a = np.array([[0, 1, 2, ], [3, 4, 5]])\n",
    "b = np.array([[5, 4, 3], [2, 1, 0]])\n",
    "\n",
    "print(a + b)   # 和\n",
    "print()\n",
    "print(a - b)   # 差\n",
    "print()\n",
    "print(a * b)   # 积"
   ]
  },
  {
   "cell_type": "markdown",
   "id": "6b7be885",
   "metadata": {},
   "source": [
    "# matplotlib基础\n",
    "本节学习如何使用图表绘制模块matplotlib，把代码执行的结果变得可视化。"
   ]
  },
  {
   "cell_type": "markdown",
   "id": "b4d581cf",
   "metadata": {},
   "source": [
    "## 3.1 什么是matplotlib\n",
    "matplotlib与NumPy一样，也是Python的外部模块，用于绘制图表，显示图像和创建简单动画。  \n",
    "在人工智能中，将数据可视化是非常重要的，因此，本届内容将解说如何利用matplotlib绘制图表"
   ]
  },
  {
   "cell_type": "markdown",
   "id": "25ac6501",
   "metadata": {},
   "source": [
    "## 3.2 matplotlib的导入\n",
    "&emsp;为了绘制图表，需要导入名为pyplot的matplotlib模块。pyplot支持图形绘制。由于数据使用NumPy数组，因此还需要导入NumPy。此外，为了在Jupyter Notebook中显示matplotlib的图表，可能需要在代码开头加入`%matplotlib inline`语句（示例49）"
   ]
  },
  {
   "cell_type": "markdown",
   "id": "9ed62f83",
   "metadata": {},
   "source": [
    "### 示例49 导入各种模块"
   ]
  },
  {
   "cell_type": "code",
   "execution_count": 50,
   "id": "42c3d9d3",
   "metadata": {
    "ExecuteTime": {
     "end_time": "2022-08-31T02:59:04.484236Z",
     "start_time": "2022-08-31T02:59:03.689215Z"
    }
   },
   "outputs": [],
   "source": [
    "%matplotlib inline\n",
    "\n",
    "import numpy as np\n",
    "import matplotlib.pyplot as plt"
   ]
  },
  {
   "cell_type": "markdown",
   "id": "f2bb8418",
   "metadata": {},
   "source": [
    "之后的代码可能会省略`%matplotlib inline`语句。在某些情况下，如果没有此语句，图表可能无法显示。因此，如果运行时图表无法显示，请将此代码段添加到代码头部。"
   ]
  },
  {
   "cell_type": "markdown",
   "id": "b17c5d0e",
   "metadata": {},
   "source": [
    "## 3.3 linspace()函数\n",
    "使用matplotlib绘制图表时，经常会用到NumPy的`linspace()`函数。`linspace()`函数可以创建一个NumPy数组，该数组会将一个区间分成50各相等的间隔。此数组通常被用于图表的水平轴的值（示例50）"
   ]
  },
  {
   "cell_type": "markdown",
   "id": "d18fc7a0",
   "metadata": {},
   "source": [
    "### 示例50 使用linspace()函数创建包含等间距的数组"
   ]
  },
  {
   "cell_type": "code",
   "execution_count": 51,
   "id": "a593ce44",
   "metadata": {
    "ExecuteTime": {
     "end_time": "2022-08-31T03:04:11.997299Z",
     "start_time": "2022-08-31T03:04:11.977242Z"
    }
   },
   "outputs": [
    {
     "name": "stdout",
     "output_type": "stream",
     "text": [
      "[-5.         -4.79591837 -4.59183673 -4.3877551  -4.18367347 -3.97959184\n",
      " -3.7755102  -3.57142857 -3.36734694 -3.16326531 -2.95918367 -2.75510204\n",
      " -2.55102041 -2.34693878 -2.14285714 -1.93877551 -1.73469388 -1.53061224\n",
      " -1.32653061 -1.12244898 -0.91836735 -0.71428571 -0.51020408 -0.30612245\n",
      " -0.10204082  0.10204082  0.30612245  0.51020408  0.71428571  0.91836735\n",
      "  1.12244898  1.32653061  1.53061224  1.73469388  1.93877551  2.14285714\n",
      "  2.34693878  2.55102041  2.75510204  2.95918367  3.16326531  3.36734694\n",
      "  3.57142857  3.7755102   3.97959184  4.18367347  4.3877551   4.59183673\n",
      "  4.79591837  5.        ]\n",
      "50\n"
     ]
    }
   ],
   "source": [
    "import numpy as np\n",
    "\n",
    "x = np.linspace(-5, 5)   # 从-5到5分割成50份\n",
    "\n",
    "print(x)\n",
    "print(len(x))   # x的元素数"
   ]
  },
  {
   "cell_type": "markdown",
   "id": "bf8b425e",
   "metadata": {},
   "source": [
    "此数组用于模拟连续变化的水平轴的值。"
   ]
  },
  {
   "cell_type": "markdown",
   "id": "0ccc0fef",
   "metadata": {},
   "source": [
    "## 3.4 绘制图表\n",
    "&emsp;举个例子，假设使用pyplot绘制一条直线。首先用NumPy的`linspace()`函数将x坐标数据作为数组生成，然后用该值乘以2作为y坐标。再用pyplot的`plot()`函数绘制x和y坐标数据，最后用`show()`函数显示图形（示例51）"
   ]
  },
  {
   "cell_type": "markdown",
   "id": "70d1a366",
   "metadata": {},
   "source": [
    "### 示例51 用pyplot绘制简单图表"
   ]
  },
  {
   "cell_type": "code",
   "execution_count": 52,
   "id": "589ec57f",
   "metadata": {
    "ExecuteTime": {
     "end_time": "2022-08-31T03:08:21.148384Z",
     "start_time": "2022-08-31T03:08:20.891280Z"
    }
   },
   "outputs": [
    {
     "data": {
      "image/png": "[encoded data removed]",
      "text/plain": [
       "<Figure size 432x288 with 1 Axes>"
      ]
     },
     "metadata": {
      "needs_background": "light"
     },
     "output_type": "display_data"
    }
   ],
   "source": [
    "import numpy as np\n",
    "import matplotlib.pyplot as plt\n",
    "\n",
    "x = np.linspace(-5, 5)   # 从-5到5\n",
    "y = 2 * x   # 用x乘以2作为y坐标\n",
    "\n",
    "plt.plot(x, y)\n",
    "plt.show()"
   ]
  },
  {
   "cell_type": "markdown",
   "id": "41817d86",
   "metadata": {},
   "source": [
    "如果在代码运行后没有显示图表，请将`%matplotlib inline`添加到代码最上面一行。"
   ]
  },
  {
   "cell_type": "markdown",
   "id": "9d0dbf07",
   "metadata": {},
   "source": [
    "## 图表的装饰\n",
    "用以下的表示方法可以让图表变得更加丰富（示例52）\n",
    "* 轴标签\n",
    "* 图表标题\n",
    "* 显示网格\n",
    "* 图例和线条样式"
   ]
  },
  {
   "cell_type": "markdown",
   "id": "ae62613f",
   "metadata": {},
   "source": [
    "### 示例52 装饰图表"
   ]
  },
  {
   "cell_type": "code",
   "execution_count": 53,
   "id": "dabd4879",
   "metadata": {
    "ExecuteTime": {
     "end_time": "2022-08-31T03:29:32.406749Z",
     "start_time": "2022-08-31T03:29:32.296003Z"
    }
   },
   "outputs": [
    {
     "data": {
      "image/png": "[encoded data removed]",
      "text/plain": [
       "<Figure size 432x288 with 1 Axes>"
      ]
     },
     "metadata": {
      "needs_background": "light"
     },
     "output_type": "display_data"
    }
   ],
   "source": [
    "import numpy as np\n",
    "import matplotlib.pyplot as plt\n",
    "\n",
    "x = np.linspace(-5, 5)\n",
    "y_1 = 2 * x\n",
    "y_2 = 3 * x\n",
    "\n",
    "# 轴标签\n",
    "plt.xlabel(\"x value\", size=14)   # 指定轴标签文字大小为14\n",
    "plt.ylabel(\"y value\", size=14)\n",
    "\n",
    "# 图表标题\n",
    "plt.title(\"My Graph\")\n",
    "\n",
    "# 显示网格\n",
    "plt.grid()\n",
    "\n",
    "# 指定出图时的图例和线条样式\n",
    "plt.plot(x, y_1, label=\"y1\")\n",
    "plt.plot(x, y_2, label=\"y2\", linestyle=\"dashed\")\n",
    "plt.legend()   # 展示图例\n",
    "\n",
    "plt.show()"
   ]
  },
  {
   "cell_type": "markdown",
   "id": "2ff861e5",
   "metadata": {},
   "source": [
    "## 散点图的显示\n",
    "可以使用`scatter()`函数显示散点图。示例53中的代码就在x和y坐标间绘制了散点图。"
   ]
  },
  {
   "cell_type": "markdown",
   "id": "cf02a8cf",
   "metadata": {},
   "source": [
    "### 示例53 使用scatter()函数显示散点图"
   ]
  },
  {
   "cell_type": "code",
   "execution_count": 54,
   "id": "ab53de91",
   "metadata": {
    "ExecuteTime": {
     "end_time": "2022-08-31T03:32:44.777902Z",
     "start_time": "2022-08-31T03:32:44.684851Z"
    }
   },
   "outputs": [
    {
     "data": {
      "image/png": "[encoded data removed]",
      "text/plain": [
       "<Figure size 432x288 with 1 Axes>"
      ]
     },
     "metadata": {
      "needs_background": "light"
     },
     "output_type": "display_data"
    }
   ],
   "source": [
    "import numpy as np\n",
    "import matplotlib.pyplot as plt\n",
    "\n",
    "x = np.array([1.2, 2.4, 0.0, 1.4, 1.5, 0.3, 0.7])   # x坐标\n",
    "y = np.array([2.4, 1.4, 1.0, 0.1, 1.7, 2.0, 0.6])   # y坐标\n",
    "\n",
    "plt.scatter(x, y)   # 绘制散点图\n",
    "plt.grid()\n",
    "plt.show()"
   ]
  },
  {
   "cell_type": "markdown",
   "id": "f15e52bf",
   "metadata": {},
   "source": [
    "<font color=red>ATTENTION</font> 如果没有经过特殊设置，在matplotlib图表中，水平轴和垂直轴的缩放比例是相同的。"
   ]
  },
  {
   "cell_type": "markdown",
   "id": "a5d92b57",
   "metadata": {},
   "source": [
    "## 3.7 直方图的显示\n",
    "利用`hist()`函数可以绘制直方图。直方图可以统计每个范围的值的出现频率，并利用矩形柱进行表示。  \n",
    "示例54中的代码对数组data中每个值的出现频率进行了统计，并利用直方图将其显示出来"
   ]
  },
  {
   "cell_type": "markdown",
   "id": "9d5f13f1",
   "metadata": {},
   "source": [
    "### 示例54 显示直方图"
   ]
  },
  {
   "cell_type": "code",
   "execution_count": 55,
   "id": "59ca4bba",
   "metadata": {
    "ExecuteTime": {
     "end_time": "2022-08-31T04:33:55.728309Z",
     "start_time": "2022-08-31T04:33:55.639448Z"
    }
   },
   "outputs": [
    {
     "data": {
      "image/png": "[encoded data removed]",
      "text/plain": [
       "<Figure size 432x288 with 1 Axes>"
      ]
     },
     "metadata": {
      "needs_background": "light"
     },
     "output_type": "display_data"
    }
   ],
   "source": [
    "import numpy as np\n",
    "import matplotlib.pyplot as plt\n",
    "\n",
    "data = np.array([0, 1, 1, 2, 2, 2, 3, 3, 4, 5, 6, 6, 7, 7, 7, 8, 8, 9])\n",
    "\n",
    "plt.hist(data, bins=10)   # 直方图bins为柱的数量\n",
    "plt.show()"
   ]
  },
  {
   "cell_type": "markdown",
   "id": "d637d555",
   "metadata": {},
   "source": [
    "可以看到，示例54中的图表对每个数字出现的频率进行了统计。"
   ]
  },
  {
   "cell_type": "markdown",
   "id": "c64c5f39",
   "metadata": {},
   "source": [
    "matplotlib还有许多其他有用的功能。本节所介绍的只是matplotlib功能的一小部分"
   ]
  },
  {
   "cell_type": "markdown",
   "id": "68c379e1",
   "metadata": {},
   "source": [
    "## 3.8 练习"
   ]
  },
  {
   "cell_type": "markdown",
   "id": "a12279b1",
   "metadata": {},
   "source": [
    "问题：不全示例55中单元格里的内容并绘制图表，可以依照自己喜欢的形式设定x的范围并对x进行运算。"
   ]
  },
  {
   "cell_type": "markdown",
   "id": "25e172e1",
   "metadata": {},
   "source": [
    "### 示例55 问题"
   ]
  },
  {
   "cell_type": "code",
   "execution_count": 56,
   "id": "84125ea3",
   "metadata": {},
   "outputs": [
    {
     "ename": "ValueError",
     "evalue": "x and y must have same first dimension, but have shapes (7,) and (50,)",
     "output_type": "error",
     "traceback": [
      "\u001b[1;31m---------------------------------------------------------------------------\u001b[0m",
      "\u001b[1;31mValueError\u001b[0m                                Traceback (most recent call last)",
      "\u001b[1;32m~\\AppData\\Local\\Temp/ipykernel_66184/488119563.py\u001b[0m in \u001b[0;36m<module>\u001b[1;34m\u001b[0m\n\u001b[0;32m     17\u001b[0m \u001b[1;33m\u001b[0m\u001b[0m\n\u001b[0;32m     18\u001b[0m \u001b[1;31m# 指定出图图例和线条样式\u001b[0m\u001b[1;33m\u001b[0m\u001b[1;33m\u001b[0m\u001b[1;33m\u001b[0m\u001b[0m\n\u001b[1;32m---> 19\u001b[1;33m \u001b[0mplt\u001b[0m\u001b[1;33m.\u001b[0m\u001b[0mplot\u001b[0m\u001b[1;33m(\u001b[0m\u001b[0mx\u001b[0m\u001b[1;33m,\u001b[0m \u001b[0my_1\u001b[0m\u001b[1;33m,\u001b[0m \u001b[0mlabel\u001b[0m\u001b[1;33m=\u001b[0m\u001b[1;34m\"y1\"\u001b[0m\u001b[1;33m)\u001b[0m\u001b[1;33m\u001b[0m\u001b[1;33m\u001b[0m\u001b[0m\n\u001b[0m\u001b[0;32m     20\u001b[0m \u001b[0mplt\u001b[0m\u001b[1;33m.\u001b[0m\u001b[0mplot\u001b[0m\u001b[1;33m(\u001b[0m\u001b[0mx\u001b[0m\u001b[1;33m,\u001b[0m \u001b[0my_2\u001b[0m\u001b[1;33m,\u001b[0m \u001b[0mlabel\u001b[0m\u001b[1;33m=\u001b[0m\u001b[1;34m\"y2\"\u001b[0m\u001b[1;33m,\u001b[0m \u001b[0mlinestyle\u001b[0m\u001b[1;33m=\u001b[0m\u001b[1;34m\"dashed\"\u001b[0m\u001b[1;33m)\u001b[0m\u001b[1;33m\u001b[0m\u001b[1;33m\u001b[0m\u001b[0m\n\u001b[0;32m     21\u001b[0m \u001b[0mplt\u001b[0m\u001b[1;33m.\u001b[0m\u001b[0mlegend\u001b[0m\u001b[1;33m(\u001b[0m\u001b[1;33m)\u001b[0m   \u001b[1;31m# 显示图例\u001b[0m\u001b[1;33m\u001b[0m\u001b[1;33m\u001b[0m\u001b[0m\n",
      "\u001b[1;32m~\\anaconda3\\envs\\pytorch\\lib\\site-packages\\matplotlib\\pyplot.py\u001b[0m in \u001b[0;36mplot\u001b[1;34m(scalex, scaley, data, *args, **kwargs)\u001b[0m\n\u001b[0;32m   2755\u001b[0m \u001b[1;33m@\u001b[0m\u001b[0m_copy_docstring_and_deprecators\u001b[0m\u001b[1;33m(\u001b[0m\u001b[0mAxes\u001b[0m\u001b[1;33m.\u001b[0m\u001b[0mplot\u001b[0m\u001b[1;33m)\u001b[0m\u001b[1;33m\u001b[0m\u001b[1;33m\u001b[0m\u001b[0m\n\u001b[0;32m   2756\u001b[0m \u001b[1;32mdef\u001b[0m \u001b[0mplot\u001b[0m\u001b[1;33m(\u001b[0m\u001b[1;33m*\u001b[0m\u001b[0margs\u001b[0m\u001b[1;33m,\u001b[0m \u001b[0mscalex\u001b[0m\u001b[1;33m=\u001b[0m\u001b[1;32mTrue\u001b[0m\u001b[1;33m,\u001b[0m \u001b[0mscaley\u001b[0m\u001b[1;33m=\u001b[0m\u001b[1;32mTrue\u001b[0m\u001b[1;33m,\u001b[0m \u001b[0mdata\u001b[0m\u001b[1;33m=\u001b[0m\u001b[1;32mNone\u001b[0m\u001b[1;33m,\u001b[0m \u001b[1;33m**\u001b[0m\u001b[0mkwargs\u001b[0m\u001b[1;33m)\u001b[0m\u001b[1;33m:\u001b[0m\u001b[1;33m\u001b[0m\u001b[1;33m\u001b[0m\u001b[0m\n\u001b[1;32m-> 2757\u001b[1;33m     return gca().plot(\n\u001b[0m\u001b[0;32m   2758\u001b[0m         \u001b[1;33m*\u001b[0m\u001b[0margs\u001b[0m\u001b[1;33m,\u001b[0m \u001b[0mscalex\u001b[0m\u001b[1;33m=\u001b[0m\u001b[0mscalex\u001b[0m\u001b[1;33m,\u001b[0m \u001b[0mscaley\u001b[0m\u001b[1;33m=\u001b[0m\u001b[0mscaley\u001b[0m\u001b[1;33m,\u001b[0m\u001b[1;33m\u001b[0m\u001b[1;33m\u001b[0m\u001b[0m\n\u001b[0;32m   2759\u001b[0m         **({\"data\": data} if data is not None else {}), **kwargs)\n",
      "\u001b[1;32m~\\anaconda3\\envs\\pytorch\\lib\\site-packages\\matplotlib\\axes\\_axes.py\u001b[0m in \u001b[0;36mplot\u001b[1;34m(self, scalex, scaley, data, *args, **kwargs)\u001b[0m\n\u001b[0;32m   1630\u001b[0m         \"\"\"\n\u001b[0;32m   1631\u001b[0m         \u001b[0mkwargs\u001b[0m \u001b[1;33m=\u001b[0m \u001b[0mcbook\u001b[0m\u001b[1;33m.\u001b[0m\u001b[0mnormalize_kwargs\u001b[0m\u001b[1;33m(\u001b[0m\u001b[0mkwargs\u001b[0m\u001b[1;33m,\u001b[0m \u001b[0mmlines\u001b[0m\u001b[1;33m.\u001b[0m\u001b[0mLine2D\u001b[0m\u001b[1;33m)\u001b[0m\u001b[1;33m\u001b[0m\u001b[1;33m\u001b[0m\u001b[0m\n\u001b[1;32m-> 1632\u001b[1;33m         \u001b[0mlines\u001b[0m \u001b[1;33m=\u001b[0m \u001b[1;33m[\u001b[0m\u001b[1;33m*\u001b[0m\u001b[0mself\u001b[0m\u001b[1;33m.\u001b[0m\u001b[0m_get_lines\u001b[0m\u001b[1;33m(\u001b[0m\u001b[1;33m*\u001b[0m\u001b[0margs\u001b[0m\u001b[1;33m,\u001b[0m \u001b[0mdata\u001b[0m\u001b[1;33m=\u001b[0m\u001b[0mdata\u001b[0m\u001b[1;33m,\u001b[0m \u001b[1;33m**\u001b[0m\u001b[0mkwargs\u001b[0m\u001b[1;33m)\u001b[0m\u001b[1;33m]\u001b[0m\u001b[1;33m\u001b[0m\u001b[1;33m\u001b[0m\u001b[0m\n\u001b[0m\u001b[0;32m   1633\u001b[0m         \u001b[1;32mfor\u001b[0m \u001b[0mline\u001b[0m \u001b[1;32min\u001b[0m \u001b[0mlines\u001b[0m\u001b[1;33m:\u001b[0m\u001b[1;33m\u001b[0m\u001b[1;33m\u001b[0m\u001b[0m\n\u001b[0;32m   1634\u001b[0m             \u001b[0mself\u001b[0m\u001b[1;33m.\u001b[0m\u001b[0madd_line\u001b[0m\u001b[1;33m(\u001b[0m\u001b[0mline\u001b[0m\u001b[1;33m)\u001b[0m\u001b[1;33m\u001b[0m\u001b[1;33m\u001b[0m\u001b[0m\n",
      "\u001b[1;32m~\\anaconda3\\envs\\pytorch\\lib\\site-packages\\matplotlib\\axes\\_base.py\u001b[0m in \u001b[0;36m__call__\u001b[1;34m(self, data, *args, **kwargs)\u001b[0m\n\u001b[0;32m    310\u001b[0m                 \u001b[0mthis\u001b[0m \u001b[1;33m+=\u001b[0m \u001b[0margs\u001b[0m\u001b[1;33m[\u001b[0m\u001b[1;36m0\u001b[0m\u001b[1;33m]\u001b[0m\u001b[1;33m,\u001b[0m\u001b[1;33m\u001b[0m\u001b[1;33m\u001b[0m\u001b[0m\n\u001b[0;32m    311\u001b[0m                 \u001b[0margs\u001b[0m \u001b[1;33m=\u001b[0m \u001b[0margs\u001b[0m\u001b[1;33m[\u001b[0m\u001b[1;36m1\u001b[0m\u001b[1;33m:\u001b[0m\u001b[1;33m]\u001b[0m\u001b[1;33m\u001b[0m\u001b[1;33m\u001b[0m\u001b[0m\n\u001b[1;32m--> 312\u001b[1;33m             \u001b[1;32myield\u001b[0m \u001b[1;32mfrom\u001b[0m \u001b[0mself\u001b[0m\u001b[1;33m.\u001b[0m\u001b[0m_plot_args\u001b[0m\u001b[1;33m(\u001b[0m\u001b[0mthis\u001b[0m\u001b[1;33m,\u001b[0m \u001b[0mkwargs\u001b[0m\u001b[1;33m)\u001b[0m\u001b[1;33m\u001b[0m\u001b[1;33m\u001b[0m\u001b[0m\n\u001b[0m\u001b[0;32m    313\u001b[0m \u001b[1;33m\u001b[0m\u001b[0m\n\u001b[0;32m    314\u001b[0m     \u001b[1;32mdef\u001b[0m \u001b[0mget_next_color\u001b[0m\u001b[1;33m(\u001b[0m\u001b[0mself\u001b[0m\u001b[1;33m)\u001b[0m\u001b[1;33m:\u001b[0m\u001b[1;33m\u001b[0m\u001b[1;33m\u001b[0m\u001b[0m\n",
      "\u001b[1;32m~\\anaconda3\\envs\\pytorch\\lib\\site-packages\\matplotlib\\axes\\_base.py\u001b[0m in \u001b[0;36m_plot_args\u001b[1;34m(self, tup, kwargs, return_kwargs)\u001b[0m\n\u001b[0;32m    496\u001b[0m \u001b[1;33m\u001b[0m\u001b[0m\n\u001b[0;32m    497\u001b[0m         \u001b[1;32mif\u001b[0m \u001b[0mx\u001b[0m\u001b[1;33m.\u001b[0m\u001b[0mshape\u001b[0m\u001b[1;33m[\u001b[0m\u001b[1;36m0\u001b[0m\u001b[1;33m]\u001b[0m \u001b[1;33m!=\u001b[0m \u001b[0my\u001b[0m\u001b[1;33m.\u001b[0m\u001b[0mshape\u001b[0m\u001b[1;33m[\u001b[0m\u001b[1;36m0\u001b[0m\u001b[1;33m]\u001b[0m\u001b[1;33m:\u001b[0m\u001b[1;33m\u001b[0m\u001b[1;33m\u001b[0m\u001b[0m\n\u001b[1;32m--> 498\u001b[1;33m             raise ValueError(f\"x and y must have same first dimension, but \"\n\u001b[0m\u001b[0;32m    499\u001b[0m                              f\"have shapes {x.shape} and {y.shape}\")\n\u001b[0;32m    500\u001b[0m         \u001b[1;32mif\u001b[0m \u001b[0mx\u001b[0m\u001b[1;33m.\u001b[0m\u001b[0mndim\u001b[0m \u001b[1;33m>\u001b[0m \u001b[1;36m2\u001b[0m \u001b[1;32mor\u001b[0m \u001b[0my\u001b[0m\u001b[1;33m.\u001b[0m\u001b[0mndim\u001b[0m \u001b[1;33m>\u001b[0m \u001b[1;36m2\u001b[0m\u001b[1;33m:\u001b[0m\u001b[1;33m\u001b[0m\u001b[1;33m\u001b[0m\u001b[0m\n",
      "\u001b[1;31mValueError\u001b[0m: x and y must have same first dimension, but have shapes (7,) and (50,)"
     ]
    },
    {
     "data": {
      "image/png": "[encoded data removed]",
      "text/plain": [
       "<Figure size 432x288 with 1 Axes>"
      ]
     },
     "metadata": {
      "needs_background": "light"
     },
     "output_type": "display_data"
    }
   ],
   "source": [
    "import numpy as np\n",
    "import matplotlib.pyplot as plt\n",
    "\n",
    "# x =                  # 指定x的范围\n",
    "# y_1 =                # 对x进行运算，并设为y_1\n",
    "# y_2 =                # 对x进行运算，并设为y_2\n",
    "\n",
    "#轴标签\n",
    "plt.xlabel(\"x value\", size=14)\n",
    "plt.ylabel(\"y value\", size=14)\n",
    "\n",
    "# 图表标题\n",
    "plt.title(\"My Graph\")\n",
    "\n",
    "# 显示网格\n",
    "plt.grid()\n",
    "\n",
    "# 指定出图图例和线条样式\n",
    "plt.plot(x, y_1, label=\"y1\")\n",
    "plt.plot(x, y_2, label=\"y2\", linestyle=\"dashed\")\n",
    "plt.legend()   # 显示图例\n",
    "\n",
    "plt.show()"
   ]
  },
  {
   "cell_type": "markdown",
   "id": "8c5c0d39",
   "metadata": {},
   "source": [
    "### 示例56 解答示例"
   ]
  },
  {
   "cell_type": "code",
   "execution_count": 57,
   "id": "a0cedba7",
   "metadata": {
    "ExecuteTime": {
     "end_time": "2022-08-31T04:41:29.434117Z",
     "start_time": "2022-08-31T04:41:29.333673Z"
    }
   },
   "outputs": [
    {
     "data": {
      "image/png": "[encoded data removed]",
      "text/plain": [
       "<Figure size 432x288 with 1 Axes>"
      ]
     },
     "metadata": {
      "needs_background": "light"
     },
     "output_type": "display_data"
    }
   ],
   "source": [
    "import numpy as np\n",
    "import matplotlib.pyplot as plt\n",
    "\n",
    "x = np.linspace(-3, 3)                 # 指定x的范围\n",
    "y_1 = 1.5 * x               # 对x进行运算，并设为y_1\n",
    "y_2 = -2 * x + 1               # 对x进行运算，并设为y_2\n",
    "\n",
    "#轴标签\n",
    "plt.xlabel(\"x value\", size=14)\n",
    "plt.ylabel(\"y value\", size=14)\n",
    "\n",
    "# 图表标题\n",
    "plt.title(\"My Graph\")\n",
    "\n",
    "# 显示网格\n",
    "plt.grid()\n",
    "\n",
    "# 指定出图图例和线条样式\n",
    "plt.plot(x, y_1, label=\"y1\")\n",
    "plt.plot(x, y_2, label=\"y2\", linestyle=\"dashed\")\n",
    "plt.legend()   # 显示图例\n",
    "\n",
    "plt.show()"
   ]
  },
  {
   "cell_type": "code",
   "execution_count": null,
   "id": "c3ea6793",
   "metadata": {},
   "outputs": [],
   "source": []
  }
 ],
 "metadata": {
  "kernelspec": {
   "display_name": "Python 3",
   "language": "python",
   "name": "python3"
  },
  "language_info": {
   "codemirror_mode": {
    "name": "ipython",
    "version": 3
   },
   "file_extension": ".py",
   "mimetype": "text/x-python",
   "name": "python",
   "nbconvert_exporter": "python",
   "pygments_lexer": "ipython3",
   "version": "3.8.8"
  },
  "latex_envs": {
   "LaTeX_envs_menu_present": true,
   "autoclose": false,
   "autocomplete": true,
   "bibliofile": "biblio.bib",
   "cite_by": "apalike",
   "current_citInitial": 1,
   "eqLabelWithNumbers": true,
   "eqNumInitial": 1,
   "hotkeys": {
    "equation": "Ctrl-E",
    "itemize": "Ctrl-I"
   },
   "labels_anchors": false,
   "latex_user_defs": false,
   "report_style_numbering": false,
   "user_envs_cfg": false
  },
  "toc": {
   "base_numbering": 1,
   "nav_menu": {},
   "number_sections": true,
   "sideBar": true,
   "skip_h1_title": false,
   "title_cell": "Table of Contents",
   "title_sidebar": "Contents",
   "toc_cell": false,
   "toc_position": {},
   "toc_section_display": true,
   "toc_window_display": false
  },
  "varInspector": {
   "cols": {
    "lenName": 16,
    "lenType": 16,
    "lenVar": 40
   },
   "kernels_config": {
    "python": {
     "delete_cmd_postfix": "",
     "delete_cmd_prefix": "del ",
     "library": "var_list.py",
     "varRefreshCmd": "print(var_dic_list())"
    },
    "r": {
     "delete_cmd_postfix": ") ",
     "delete_cmd_prefix": "rm(",
     "library": "var_list.r",
     "varRefreshCmd": "cat(var_dic_list()) "
    }
   },
   "types_to_exclude": [
    "module",
    "function",
    "builtin_function_or_method",
    "instance",
    "_Feature"
   ],
   "window_display": false
  }
 },
 "nbformat": 4,
 "nbformat_minor": 5
}
